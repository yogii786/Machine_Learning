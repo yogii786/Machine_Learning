{
 "cells": [
  {
   "cell_type": "code",
   "execution_count": 3,
   "metadata": {},
   "outputs": [],
   "source": [
    "import statsmodels.formula.api as smf\n",
    "\n",
    "def forward_selected(data, response):\n",
    "    remaining = set(data.columns)\n",
    "    remaining.remove(response)\n",
    "    selected = []\n",
    "    current_score, best_new_score = 0.0, 0.0\n",
    "    while remaining and current_score == best_new_score:\n",
    "        scores_with_candidates = []\n",
    "        for candidate in remaining:\n",
    "            formula = \"{} ~ {} \".format(response,\n",
    "                                           ' + '.join(selected + [candidate]))\n",
    "            score = smf.ols(formula, data).fit().rsquared_adj\n",
    "            scores_with_candidates.append((score, candidate))\n",
    "            #print(scores_with_candidates)\n",
    "        scores_with_candidates.sort()\n",
    "        #print(scores_with_candidates)\n",
    "        best_new_score, best_candidate = scores_with_candidates.pop()\n",
    "        if current_score < best_new_score:\n",
    "            remaining.remove(best_candidate)\n",
    "            selected.append(best_candidate)\n",
    "            #print(best_new_score)\n",
    "            #print(best_candidate)\n",
    "            current_score = best_new_score\n",
    "        print(selected)\n",
    "    formula = \"{} ~ {} \".format(response,\n",
    "                                   ' + '.join(selected))\n",
    "    model = smf.ols(formula, data).fit()\n",
    "    return model"
   ]
  },
  {
   "cell_type": "code",
   "execution_count": 4,
   "metadata": {},
   "outputs": [
    {
     "name": "stdout",
     "output_type": "stream",
     "text": [
      "['Rating']\n",
      "['Rating', 'Income']\n",
      "['Rating', 'Income', 'Student_Yes']\n",
      "['Rating', 'Income', 'Student_Yes', 'Limit']\n",
      "['Rating', 'Income', 'Student_Yes', 'Limit', 'Cards']\n",
      "['Rating', 'Income', 'Student_Yes', 'Limit', 'Cards', 'Age']\n",
      "['Rating', 'Income', 'Student_Yes', 'Limit', 'Cards', 'Age', 'Gender_Male']\n",
      "['Rating', 'Income', 'Student_Yes', 'Limit', 'Cards', 'Age', 'Gender_Male']\n",
      "Balance ~ Rating + Income + Student_Yes + Limit + Cards + Age + Gender_Male \n",
      "0.9540098163629883\n"
     ]
    }
   ],
   "source": [
    "import pandas as pd\n",
    "\n",
    "housePrice = pd.read_csv(\"Credit.csv\",usecols=list(range(1,12)))\n",
    "data = pd.get_dummies(housePrice, columns = ['Gender', 'Student','Married','Ethnicity'],drop_first = True)\n",
    "\n",
    "model = forward_selected(data, 'Balance')\n",
    "\n",
    "print (model.model.formula)\n",
    "\n",
    "print (model.rsquared_adj)"
   ]
  },
  {
   "cell_type": "code",
   "execution_count": null,
   "metadata": {},
   "outputs": [],
   "source": []
  }
 ],
 "metadata": {
  "kernelspec": {
   "display_name": "Python 3",
   "language": "python",
   "name": "python3"
  },
  "language_info": {
   "codemirror_mode": {
    "name": "ipython",
    "version": 3
   },
   "file_extension": ".py",
   "mimetype": "text/x-python",
   "name": "python",
   "nbconvert_exporter": "python",
   "pygments_lexer": "ipython3",
   "version": "3.6.4"
  }
 },
 "nbformat": 4,
 "nbformat_minor": 2
}
